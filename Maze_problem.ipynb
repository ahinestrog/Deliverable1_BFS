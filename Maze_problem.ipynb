{
 "cells": [
  {
   "cell_type": "code",
   "execution_count": 8,
   "metadata": {
    "id": "xoZn6b-uZt8r"
   },
   "outputs": [],
   "source": [
    "import heapq #El módulo heapq implementa colas de prioridad (heaps)"
   ]
  },
  {
   "cell_type": "code",
   "execution_count": 9,
   "metadata": {
    "id": "4Rahk-56Z9jq"
   },
   "outputs": [],
   "source": [
    "class Node:\n",
    "    def __init__(self, position, parent=None, action=None,path_cost=0): #AGREGAR ACTION\n",
    "        self.position = position\n",
    "        self.parent = parent\n",
    "        self.path_cost = path_cost\n",
    "        self.action=action\n",
    "\n",
    "    def __lt__(self, other):\n",
    "        return self.path_cost < other.path_cost\n",
    "\n",
    "class Problem:\n",
    "    def __init__(self, maze, start, end,actions):\n",
    "        self.maze = maze\n",
    "        self.start = start\n",
    "        self.end = end\n",
    "        self.actions=actions\n",
    "        "
   ]
  },
  {
   "cell_type": "code",
   "execution_count": 10,
   "metadata": {
    "id": "nr1f-OMmaPZy"
   },
   "outputs": [],
   "source": [
    "def reconstruct_path(node):  #AJUSTAR FUNCIONES PARA ADEMAS DE LAS POSICIONES, MOSTRAR LAS ACCIONES TOMADAS\n",
    "    path = []\n",
    "    actions=[]\n",
    "    while node:\n",
    "        path.append(node.position)\n",
    "        if node.action:\n",
    "            actions.append(node.action)\n",
    "        node = node.parent\n",
    "    path.reverse()\n",
    "    actions.reverse()\n",
    "    return path, actions\n"
   ]
  },
  {
   "cell_type": "code",
   "execution_count": 11,
   "metadata": {
    "id": "7B4dgvTgaBhf"
   },
   "outputs": [],
   "source": [
    "def find_exit(maze):\n",
    "    start = (1, 1)  # Posición inicial basado en la documentación suministrada\n",
    "    end = (1, 6)    # Posición de la salida basado en la documentación suministrada\n",
    "\n",
    "    #DEFINA el conjunto de actions posibles#\n",
    "    actions = {\n",
    "            \"up\": (-1, 0),\n",
    "            \"down\": (1, 0),\n",
    "            \"left\": (0, -1),\n",
    "            \"right\": (0, 1)\n",
    "        }\n",
    "\n",
    "    problem=Problem(maze,start,end,actions)#COMPLETE LA DEFINICIÓN DEL OBJETO Y ADAPTELO EN LOS PUNTOS QUE LO REQUIERAN\n",
    "\n",
    "    def manhatan_distance(pos, goal):\n",
    "        return abs(pos[0] - goal[0]) + abs(pos[1] - goal[1])  # Distancia de Manhattan\n",
    "\n",
    "    def get_neighbors(pos):  #ESTA ES LA FUNCIÓN QUE DEBERIA AJUSTAR PARA HACER TRACKING DE LOS MOVIMIENTOS (Up, Down, Right, Left)\n",
    "        neighbors = [] #lista de vecinos\n",
    "        for action, (dx, dy) in problem.actions.items():  #Tenga en cuenta que para que esto sea funcional ya debio haber definido el objeto problem\n",
    "            neighbor = (pos[0] + dx, pos[1] + dy)\n",
    "            if maze[neighbor[0]][neighbor[1]] != \"#\": #si el vecino es diferente a \"#\" pared agregarlo a la lista de vecinos                neighbors.append(neighbor)\n",
    "              neighbors.append((neighbor,action))\n",
    "        return neighbors\n",
    "\n",
    "    start_node = Node(start, path_cost=0)\n",
    "    frontier = [(manhatan_distance(start, end), start_node)]\n",
    "    heapq.heapify(frontier) #Convierte la lista frontier en una cola de prioridad (heap)\n",
    "    reached = {start: start_node}\n",
    "\n",
    "    while frontier:\n",
    "        _, node = heapq.heappop(frontier)\n",
    "        if node.position == end:\n",
    "            return reconstruct_path(node)\n",
    "\n",
    "        for neighbor, action in get_neighbors(node.position):\n",
    "            new_cost = node.path_cost + 1\n",
    "            if neighbor not in reached or new_cost < reached[neighbor].path_cost:\n",
    "                reached[neighbor] = Node(neighbor, parent=node,action=action, path_cost=new_cost)\n",
    "                heapq.heappush(frontier, (manhatan_distance(neighbor, end), reached[neighbor]))\n",
    "\n",
    "    return None  # No se encontró salida"
   ]
  },
  {
   "cell_type": "code",
   "execution_count": 12,
   "metadata": {
    "id": "goDWZANwaRuK"
   },
   "outputs": [
    {
     "name": "stdout",
     "output_type": "stream",
     "text": [
      "Path to exit: ([(1, 1), (2, 1), (2, 2), (2, 3), (3, 3), (3, 4), (3, 5), (2, 5), (1, 5), (1, 6)], ['down', 'right', 'right', 'down', 'right', 'right', 'up', 'up', 'right'])\n"
     ]
    }
   ],
   "source": [
    "maze = [\n",
    "    [\"#\", \"#\", \"#\", \"#\", \"#\", \"#\", \"#\",\"#\"],\n",
    "    [\"#\", \"S\", \"#\", \" \", \"#\", \" \", \"E\",\"#\"],\n",
    "    [\"#\", \" \", \" \", \" \", \"#\", \" \", \" \",\"#\"],\n",
    "    [\"#\", \" \", \"#\", \" \", \" \", \" \", \"#\",\"#\"],\n",
    "    [\"#\", \"#\", \"#\", \"#\", \"#\", \"#\", \"#\",\"#\"],\n",
    "    [\"#\", \"#\", \"#\", \"#\", \"#\", \"#\", \"#\",\"#\"]\n",
    "]\n",
    "path = find_exit(maze)\n",
    "print(\"Path to exit:\", path)"
   ]
  },
  {
   "cell_type": "markdown",
   "metadata": {
    "id": "H26eDnSU4YEK"
   },
   "source": [
    "**UNA VEZ SOLUCIONADO EL EJERCICIO, RESPONDA:**\n",
    "\n",
    "#### **1. ¿Cómo cambia el comportamiento del algoritmo si cambiamos la función de costo?**\n",
    "##### Dado que la heurística utilizada es aquella por la que calculamos la distancia Manhatan en cada vecino válido que tenemos y lo agregamos a la frontera (cola de prioridad), si bien la distancia Manhatan siempre toma el mejor de los casos, es decir, un camino sin obstáculos es gracias a esta que podemos priorizar los nodos más cercanos hacía el objetivo, y por ende los primeros que vamos a explorar. Así, en caso tal de que se cambiase la lógica de la función de costo, es decir, dejáramos de almacenar la distancia manhatan, entonces ahora pasaríamos a evaluar todas las fronteras posibles y no necesariamente la más cercana de primera (ya no se le da prioridad), lo que podría hacer al algoritmo ineficiente, pues estaría tomando más pasos para hallar la ruta. \n",
    "#### **2. ¿Qué sucede si hay múltiples salidas en el laberinto? ¿Cómo podrías modificar el algoritmo para manejar esta situación?**\n",
    "##### Entendiendo que una salida es un espacio representado por un slash \"/\" en el laberito y no una pared (\"#\") que es un obstáculo, la única modificación pertinente sería agregarle un \"and\" a la condición que verifica si hay una pared (\"#\"). Esta: if maze[neighbor[0]][neighbor[1]] != \"#\" and maze[neighbor[0]][neighbor[1]] != \"/\": , así no tomaría las salidas como vecinos válidos y seguirá su ruta hacia el objetivo.\n",
    "#### **3. Modifica el laberinto por uno más grande y con otros tipos de obstáculos, además de paredes. ¿Qué limitaciones encuentras en el algoritmo?**\n",
    "\n",
    "Nota: Resuelve este problema en una celda aparte para mantener la integridad de tu código original."
   ]
  },
  {
   "cell_type": "code",
   "execution_count": 13,
   "metadata": {},
   "outputs": [],
   "source": [
    "def find_exit2(maze):\n",
    "    start = (1, 1)  # Posición inicial del nuevo maze\n",
    "    end = (4, 9)    # Posición de la salida del nuevo maze \n",
    "\n",
    "    #DEFINA el conjunto de actions posibles#\n",
    "    actions = {\n",
    "            \"up\": (-1, 0),\n",
    "            \"down\": (1, 0),\n",
    "            \"left\": (0, -1),\n",
    "            \"right\": (0, 1)\n",
    "        }\n",
    "\n",
    "    problem=Problem(maze,start,end,actions)#COMPLETE LA DEFINICIÓN DEL OBJETO Y ADAPTELO EN LOS PUNTOS QUE LO REQUIERAN\n",
    "\n",
    "    def manhatan_distance(pos, goal):\n",
    "        return abs(pos[0] - goal[0]) + abs(pos[1] - goal[1])  # Distancia de Manhattan\n",
    "\n",
    "    def get_neighbors(pos):  #ESTA ES LA FUNCIÓN QUE DEBERIA AJUSTAR PARA HACER TRACKING DE LOS MOVIMIENTOS (Up, Down, Right, Left)\n",
    "        neighbors = [] #lista de vecinos\n",
    "        for action, (dx, dy) in problem.actions.items():  #Tenga en cuenta que para que esto sea funcional ya debio haber definido el objeto problem\n",
    "            neighbor = (pos[0] + dx, pos[1] + dy)\n",
    "            if maze[neighbor[0]][neighbor[1]] != \"#\" and maze[neighbor[0]][neighbor[1]] != \"*\" and maze[neighbor[0]][neighbor[1]] != \"/\": #si el vecino es diferente a \"#\" y \"*\" y \"/\" pared agregarlo a la lista de vecinos                neighbors.append(neighbor)\n",
    "              neighbors.append((neighbor,action))\n",
    "        return neighbors\n",
    "\n",
    "    start_node = Node(start, path_cost=0)\n",
    "    frontier = [(manhatan_distance(start, end), start_node)]\n",
    "    heapq.heapify(frontier) #Convierte la lista frontier en una cola de prioridad (heap)\n",
    "    reached = {start: start_node}\n",
    "\n",
    "    while frontier:\n",
    "        _, node = heapq.heappop(frontier)\n",
    "        if node.position == end:\n",
    "            return reconstruct_path(node)\n",
    "\n",
    "        for neighbor, action in get_neighbors(node.position):\n",
    "            new_cost = node.path_cost + 1\n",
    "            if neighbor not in reached or new_cost < reached[neighbor].path_cost:\n",
    "                reached[neighbor] = Node(neighbor, parent=node,action=action, path_cost=new_cost)\n",
    "                heapq.heappush(frontier, (manhatan_distance(neighbor, end), reached[neighbor]))\n",
    "\n",
    "    return None  # No se encontró salida"
   ]
  },
  {
   "cell_type": "code",
   "execution_count": 14,
   "metadata": {},
   "outputs": [
    {
     "name": "stdout",
     "output_type": "stream",
     "text": [
      "Path to exit: ([(1, 1), (2, 1), (2, 2), (2, 3), (3, 3), (3, 4), (3, 5), (2, 5), (1, 5), (1, 6), (1, 7), (2, 7), (3, 7), (4, 7), (4, 8), (4, 9)], ['down', 'right', 'right', 'down', 'right', 'right', 'up', 'up', 'right', 'right', 'down', 'down', 'down', 'right', 'right'])\n"
     ]
    }
   ],
   "source": [
    "maze2 = [\n",
    "    [\"/\", \"#\", \"#\", \"#\", \"#\", \"/\", \"#\", \"*\", \"#\", \"#\", \"#\", \"/\"],\n",
    "    [\"#\", \"S\", \"#\", \" \", \"#\", \" \", \" \", \" \", \" \", \"*\", \"#\", \"#\"],\n",
    "    [\"#\", \" \", \" \", \" \", \"#\", \" \", \"#\", \" \", \"/\", \"#\", \"#\", \"#\"],\n",
    "    [\"#\", \" \", \"*\", \" \", \" \", \" \", \"*\", \" \", \"#\", \"#\", \"#\", \"#\"],\n",
    "    [\"*\", \"#\", \"#\", \"#\", \"*\", \"#\", \"#\", \" \", \" \", \"E\", \"#\", \"#\"],\n",
    "    [\"#\", \"#\", \"#\", \"#\", \"#\", \"/\", \"#\", \" \", \"#\", \"#\", \"#\", \"#\"],\n",
    "    [\"#\", \"#\", \"*\", \"/\", \"#\", \"#\", \"#\", \" \", \"#\", \"#\", \"*\", \"#\"],\n",
    "    [\"*\", \" \", \" \", \" \", \"#\", \"*\", \"*\", \" \", \"#\", \"#\", \"#\", \"#\"],\n",
    "    [\"#\", \" \", \"#\", \" \", \" \", \" \", \" \", \" \", \"#\", \"#\", \"#\", \"#\"],\n",
    "    [\"/\", \" \", \"#\", \"#\", \"#\", \"#\", \"#\", \"#\", \"#\", \"#\", \"#\", \"/\"]\n",
    "]\n",
    "path = find_exit2(maze2)\n",
    "print(\"Path to exit:\", path)"
   ]
  }
 ],
 "metadata": {
  "colab": {
   "provenance": []
  },
  "kernelspec": {
   "display_name": "Python 3",
   "name": "python3"
  },
  "language_info": {
   "codemirror_mode": {
    "name": "ipython",
    "version": 3
   },
   "file_extension": ".py",
   "mimetype": "text/x-python",
   "name": "python",
   "nbconvert_exporter": "python",
   "pygments_lexer": "ipython3",
   "version": "3.13.1"
  }
 },
 "nbformat": 4,
 "nbformat_minor": 0
}
