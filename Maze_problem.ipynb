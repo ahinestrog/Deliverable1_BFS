{
 "cells": [
  {
   "cell_type": "code",
   "execution_count": 7,
   "metadata": {
    "id": "xoZn6b-uZt8r"
   },
   "outputs": [],
   "source": [
    "import heapq #El módulo heapq implementa colas de prioridad (heaps)"
   ]
  },
  {
   "cell_type": "code",
   "execution_count": 8,
   "metadata": {
    "id": "4Rahk-56Z9jq"
   },
   "outputs": [],
   "source": [
    "class Node:\n",
    "    def __init__(self, position, parent=None, action=None,path_cost=0): #AGREGAR ACTION\n",
    "        self.position = position\n",
    "        self.parent = parent\n",
    "        self.path_cost = path_cost\n",
    "        self.action=action\n",
    "\n",
    "    def __lt__(self, other):\n",
    "        return self.path_cost < other.path_cost\n",
    "\n",
    "class Problem:\n",
    "    def __init__(self, maze, start, end,actions):\n",
    "        self.maze = maze\n",
    "        self.start = start\n",
    "        self.end = end\n",
    "        self.actions=actions\n",
    "        "
   ]
  },
  {
   "cell_type": "code",
   "execution_count": 9,
   "metadata": {
    "id": "nr1f-OMmaPZy"
   },
   "outputs": [],
   "source": [
    "def reconstruct_path(node):  #AJUSTAR FUNCIONES PARA ADEMAS DE LAS POSICIONES, MOSTRAR LAS ACCIONES TOMADAS\n",
    "    path = []\n",
    "    actions=[]\n",
    "    while node:\n",
    "        path.append(node.position)\n",
    "        if node.action:\n",
    "            actions.append(node.action)\n",
    "        node = node.parent\n",
    "    path.reverse()\n",
    "    actions.reverse()\n",
    "    return path, actions\n"
   ]
  },
  {
   "cell_type": "code",
   "execution_count": 10,
   "metadata": {
    "id": "7B4dgvTgaBhf"
   },
   "outputs": [],
   "source": [
    "def find_exit(maze):\n",
    "    start = (1, 1)  # Posición inicial basado en la documentación suministrada\n",
    "    end = (1, 6)    # Posición de la salida basado en la documentación suministrada\n",
    "\n",
    "    #DEFINA el conjunto de actions posibles#\n",
    "    actions = {\n",
    "            \"up\": (-1, 0),\n",
    "            \"down\": (1, 0),\n",
    "            \"left\": (0, -1),\n",
    "            \"right\": (0, 1)\n",
    "        }\n",
    "\n",
    "    problem=Problem(maze,start,end,actions)#COMPLETE LA DEFINICIÓN DEL OBJETO Y ADAPTELO EN LOS PUNTOS QUE LO REQUIERAN\n",
    "\n",
    "    def manhatan_distance(pos, goal):\n",
    "        return abs(pos[0] - goal[0]) + abs(pos[1] - goal[1])  # Distancia de Manhattan\n",
    "\n",
    "    def get_neighbors(pos):  #ESTA ES LA FUNCIÓN QUE DEBERIA AJUSTAR PARA HACER TRACKING DE LOS MOVIMIENTOS (Up, Down, Right, Left)\n",
    "        neighbors = [] #lista de vecinos\n",
    "        for action, (dx, dy) in problem.actions.items():  #Tenga en cuenta que para que esto sea funcional ya debio haber definido el objeto problem\n",
    "            neighbor = (pos[0] + dx, pos[1] + dy)\n",
    "            if maze[neighbor[0]][neighbor[1]] != \"#\": #si el vecino es diferente a \"#\" pared agregarlo a la lista de vecinos                neighbors.append(neighbor)\n",
    "              neighbors.append((neighbor,action))\n",
    "        return neighbors\n",
    "\n",
    "    start_node = Node(start, path_cost=0)\n",
    "    frontier = [(manhatan_distance(start, end), start_node)]\n",
    "    heapq.heapify(frontier) #Convierte la lista frontier en una cola de prioridad (heap)\n",
    "    reached = {start: start_node}\n",
    "\n",
    "    while frontier:\n",
    "        _, node = heapq.heappop(frontier)\n",
    "        if node.position == end:\n",
    "            return reconstruct_path(node)\n",
    "\n",
    "        for neighbor, action in get_neighbors(node.position):\n",
    "            new_cost = node.path_cost + 1\n",
    "            if neighbor not in reached or new_cost < reached[neighbor].path_cost:\n",
    "                reached[neighbor] = Node(neighbor, parent=node,action=action, path_cost=new_cost)\n",
    "                heapq.heappush(frontier, (manhatan_distance(neighbor, end), reached[neighbor]))\n",
    "\n",
    "    return None  # No se encontró salida"
   ]
  },
  {
   "cell_type": "code",
   "execution_count": 11,
   "metadata": {
    "id": "goDWZANwaRuK"
   },
   "outputs": [
    {
     "name": "stdout",
     "output_type": "stream",
     "text": [
      "Path to exit: ([(1, 1), (2, 1), (2, 2), (2, 3), (3, 3), (3, 4), (3, 5), (2, 5), (1, 5), (1, 6)], ['down', 'right', 'right', 'down', 'right', 'right', 'up', 'up', 'right'])\n"
     ]
    }
   ],
   "source": [
    "maze = [\n",
    "    [\"#\", \"#\", \"#\", \"#\", \"#\", \"#\", \"#\",\"#\"],\n",
    "    [\"#\", \"S\", \"#\", \" \", \"#\", \" \", \"E\",\"#\"],\n",
    "    [\"#\", \" \", \" \", \" \", \"#\", \" \", \" \",\"#\"],\n",
    "    [\"#\", \" \", \"#\", \" \", \" \", \" \", \"#\",\"#\"],\n",
    "    [\"#\", \"#\", \"#\", \"#\", \"#\", \"#\", \"#\",\"#\"],\n",
    "    [\"#\", \"#\", \"#\", \"#\", \"#\", \"#\", \"#\",\"#\"]\n",
    "]\n",
    "path = find_exit(maze)\n",
    "print(\"Path to exit:\", path)"
   ]
  },
  {
   "cell_type": "markdown",
   "metadata": {
    "id": "H26eDnSU4YEK"
   },
   "source": [
    "**UNA VEZ SOLUCIONADO EL EJERCICIO, RESPONDA:**\n",
    "\n",
    "#### **1. ¿Cómo cambia el comportamiento del algoritmo si cambiamos la función de costo?**\n",
    "##### Actualmente la función de costo se da gracias a la heurística que nos proporciona la distancia de Manhatan, con esta podemos elegir el nodo (en este caso, la casilla del laberinto) con la “distancia más corta” hasta el final. Si bien la distancia Manhatan siempre toma el mejor de los casos, es decir, un camino sin obstáculos, es gracias a esta que podemos priorizar los nodos más cercanos hacía el objetivo. Más allá de esto, el costo de un nodo vecino se calcula incrementando en uno el costo del nodo del cual se es vecino y preguntándose si este es el menor de los costos que se tiene hasta ahora. \n",
    "\n",
    "##### Ahora bien, con esto claro, la función de costos puede verse principalmente afectada si cambiamos la manera en la que los nodos vecinos son priorizados para ser visitados. Así, podría pasar que ya no usáramos un heapq para tomar primero el nodo con la distancia relativa más corta al final, en este caso, el algoritmo ya no elegiría primero el nodo que piensa es el más cercano, si no que iniciaría por cualquiera de los nodos vecinos y lo exploraría, lo cual también nos proporcionaría un camino hacia la salida, pero no necesariamente el más cercano, lo que podría hacer al algoritmo ineficiente, pues estaría tomando más pasos para hallar la ruta, es decir, terminaría por ser un algoritmo de fuerza bruta. \n",
    "\n",
    "##### Por otro lado, también podría hacerse un cálculo distinto a la distancia de Manhatan para realizar la priorización de nodos, como, por ejemplo, la distancia euclidiana, lo cual  permitiría un flujo del algoritmo prácticamente igual, solo que con un parámetro distinto para elegir los nodos a ser primeramente visitados, sin embargo, esto podría terminar por hacer que el algoritmo no sea tan efectivo, pues esta distancia no es tan apropiada cuando no es posible desplazarse en diagonal, brindándonos un resultado que no necesariamente es el camino más corto.\n",
    "\n",
    "#### **2. ¿Qué sucede si hay múltiples salidas en el laberinto? ¿Cómo podrías modificar el algoritmo para manejar esta situación?**\n",
    "##### Primeramente, en caso de contar con más de una salida, ya no tendríamos un solo objetivo si no, posiblemente más de uno, esto impide usar la distancia de Manhatan como lo veníamos haciendo, pues deberían considerarse las distancias relativas de los nodos a todos los posibles finales.\n",
    "\n",
    "#### Para solucionar esto, hemos planteado dos principales opciones: \n",
    "#### -\tLa primera descarta a idea de priorizar los nodos, es decir, este simplemente intentaría llegar a alguna de las salidas, y si no la encuentra con el primer camino probado haría Backtrack, lo que terminaría por ser un algoritmo de fuerza bruta.\n",
    " \n",
    "#### -\tLa segunda sería primeramente ingresar todos los posibles finales en una lista, elegir el primero como el único final, luego se procedería como en lo habitual, encontrando la ruta más corta del único inicio al “único final”, después se actualizaría el costo del camino de este final y se sacaría de la cola de prioridad, este mismo proceso se haría con cada uno de los finales dentro de la cola de prioridad, y finalmente se elegiría el final con el menor costo. Otra opción sería priorizar los finales por su distancia de Manhathan con el inicio, y parar al encontrar la ruta más corta con el primer final (si este no tiene ruta posible, se procedería con el segundo final priorizado y así sucesivamente).\n",
    "\n",
    "### Cabe aclarar que para las ultimás dos opciones, es necesario que los otros finales, ajenos al que estoy analizando, se puedan considerar como posibles partes del camino. \n",
    "\n",
    "#### **3. Modifica el laberinto por uno más grande y con otros tipos de obstáculos, además de paredes. ¿Qué limitaciones encuentras en el algoritmo?**\n",
    "\n",
    "### El principal problema es que el algoritmo no identifica más obstaculos, solo lás paredes, por lo que tomaría los obstáculos como posibles vecinos (celdas a las que se puede avanzar) terminando por darnos rutas no válidas. Con respecto al tamaño su mayor limitación es que entre más grande sea el laberinto más nodos tendrá que explorar y al tener que guardar en la cola todos los nodos visitados podría incurrir en un uso excesivo en la memoria y un tiempo más largo de procesamiento. Además, tanto el inicio como el final deberían de calcularse y no entrar sus cordenadas manualmente, pues en caso de tener más finales, este proceso resulta tardío.\n",
    "\n",
    "\n",
    "Nota: Resuelve este problema en una celda aparte para mantener la integridad de tu código original."
   ]
  },
  {
   "cell_type": "code",
   "execution_count": 12,
   "metadata": {},
   "outputs": [
    {
     "name": "stdout",
     "output_type": "stream",
     "text": [
      "Path to exit: ([(1, 1), (2, 1), (2, 2), (2, 3), (3, 3), (3, 4), (3, 5), (2, 5), (1, 5), (1, 6)], ['down', 'right', 'right', 'down', 'right', 'right', 'up', 'up', 'right'])\n"
     ]
    }
   ],
   "source": [
    "maze2 = [\n",
    "    [\"/\", \"#\", \"#\", \"#\", \"#\", \"/\", \"#\", \"*\", \"#\", \"#\", \"#\", \"/\"],\n",
    "    [\"#\", \"S\", \"#\", \" \", \"#\", \" \", \" \", \" \", \" \", \"*\", \"#\", \"#\"],\n",
    "    [\"#\", \" \", \" \", \" \", \"#\", \" \", \"#\", \" \", \"/\", \"#\", \"#\", \"#\"],\n",
    "    [\"#\", \" \", \"*\", \" \", \" \", \" \", \"*\", \" \", \"#\", \"#\", \"#\", \"#\"],\n",
    "    [\"*\", \"#\", \"#\", \"#\", \"*\", \"#\", \"#\", \" \", \" \", \"E\", \"#\", \"#\"],\n",
    "    [\"#\", \"#\", \"#\", \"#\", \"#\", \"/\", \"#\", \" \", \"#\", \"#\", \"#\", \"#\"],\n",
    "    [\"#\", \"#\", \"*\", \"/\", \"#\", \"#\", \"#\", \" \", \"#\", \"#\", \"*\", \"#\"],\n",
    "    [\"*\", \" \", \" \", \" \", \"#\", \"*\", \"*\", \" \", \"#\", \"#\", \"#\", \"#\"],\n",
    "    [\"#\", \" \", \"#\", \" \", \" \", \" \", \" \", \" \", \"#\", \"#\", \"#\", \"#\"],\n",
    "    [\"/\", \" \", \"#\", \"#\", \"#\", \"#\", \"#\", \"#\", \"#\", \"#\", \"#\", \"/\"]\n",
    "]\n",
    "path = find_exit(maze2)\n",
    "print(\"Path to exit:\", path)"
   ]
  }
 ],
 "metadata": {
  "colab": {
   "provenance": []
  },
  "kernelspec": {
   "display_name": "Python 3",
   "name": "python3"
  },
  "language_info": {
   "codemirror_mode": {
    "name": "ipython",
    "version": 3
   },
   "file_extension": ".py",
   "mimetype": "text/x-python",
   "name": "python",
   "nbconvert_exporter": "python",
   "pygments_lexer": "ipython3",
   "version": "3.10.4"
  }
 },
 "nbformat": 4,
 "nbformat_minor": 0
}
