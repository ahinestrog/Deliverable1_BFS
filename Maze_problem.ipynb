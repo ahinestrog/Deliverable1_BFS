{
  "cells": [
    {
      "cell_type": "code",
      "execution_count": 40,
      "metadata": {
        "id": "xoZn6b-uZt8r"
      },
      "outputs": [],
      "source": [
        "import heapq #El módulo heapq implementa colas de prioridad (heaps)"
      ]
    },
    {
      "cell_type": "code",
      "execution_count": 41,
      "metadata": {
        "id": "4Rahk-56Z9jq"
      },
      "outputs": [],
      "source": [
        "class Node:\n",
        "    def __init__(self, position, parent=None, path_cost=0, action =None): #AGREGAR ACTION\n",
        "        self.position = position # Cordenada x,y del robot en el laberinto \n",
        "        self.parent = parent # Nodo padre desde donde se llego a este nodo\n",
        "        self.path_cost = path_cost # Costo acumulado del camino desde donde se empezo hasta este nodo\n",
        "        self.action = action # Acción tomada desde el nodo padre hasta este nodo, ejemplo: Arriba, abajo, derecha, izquierda\n",
        "\n",
        "    def __lt__(self, other):\n",
        "        return self.path_cost < other.path_cost # Compara los dos nodos en la cola de prioridad, y expande el camino más corto primero\n",
        "\n",
        "class Problem:\n",
        "    def __init__(self, initial, goal, actions, maze):\n",
        "        self.initial = initial  # Coordenada x,y del robot en el laberinto de inicio\n",
        "        self.goal = goal # Coordenada x,y del robot en el laberinto de fin, el objetivo\n",
        "        self.actions = actions # Lista de acciones posibles para el robot, ejemplo: Arriba, abajo, derecha, izquierda\n",
        "        self.maze = maze # Representación gráfica del laberinto en una matriz\n",
        "        \n",
        "    #DEFINA la Class problem como lo considere necesario, puede basarse del ejemplo de Bucharest"
      ]
    },
    {
      "cell_type": "code",
      "execution_count": 42,
      "metadata": {
        "id": "nr1f-OMmaPZy"
      },
      "outputs": [
        {
          "data": {
            "text/plain": [
              "'\\nExplicación del algoritmo:\\nSe inicia con el nodo final, que es aquel que le entra como parámetro (E). Luego, se recorre la cadena de nodos padres (parent), retrocediendo desde la mete hasta la posición inicial\\n(S).\\nSe almacenan en el path la lista de coordenadas dentro de la matriz y las acciones tomadas en cada paso.\\nLuego, se le hace reverse a la lista para que los pasos queden como si hubiern sido realizados de S hasta E y no al revés. \\n'"
            ]
          },
          "execution_count": 42,
          "metadata": {},
          "output_type": "execute_result"
        }
      ],
      "source": [
        "def reconstruct_path(node):  #AJUSTAR FUNCIONES PARA ADEMAS DE LAS POSICIONES, MOSTRAR LAS ACCIONES TOMADAS\n",
        "    path = [] \n",
        "    actions = [] \n",
        "    while node:  \n",
        "        path.append(node.position)\n",
        "        if node.action:\n",
        "            actions.append(node.action)\n",
        "        node = node.parent\n",
        "    path.reverse()\n",
        "    actions.reverse()\n",
        "    return path, actions  \n",
        "\n",
        "\"\"\"\n",
        "Explicación del algoritmo:\n",
        "Se inicia con el nodo final, que es aquel que le entra como parámetro (E). Luego, se recorre la cadena de nodos padres (parent), retrocediendo desde la mete hasta la posición inicial\n",
        "(S).\n",
        "Se almacenan en el path la lista de coordenadas dentro de la matriz y las acciones tomadas en cada paso.\n",
        "Luego, se le hace reverse a la lista para que los pasos queden como si hubiern sido realizados de S hasta E y no al revés. \n",
        "\"\"\"\n"
      ]
    },
    {
      "cell_type": "code",
      "execution_count": 43,
      "metadata": {
        "id": "7B4dgvTgaBhf"
      },
      "outputs": [],
      "source": [
        "def find_exit(maze):\n",
        "    start = (1, 1)  # Posición inicial basado en la documentación suministrada\n",
        "    end = (1, 6)    # Posición de la salida basado en la documentación suministrada\n",
        "\n",
        "    #DEFINA el conjunto de actions posibles#\n",
        "    actions = {\n",
        "        \"up\":(-1,0),\n",
        "        \"down\":(1, 0),\n",
        "        \"right\":(0, 1),\n",
        "        \"left\":(0, -1)\n",
        "        \n",
        "    }\n",
        "\n",
        "    problem=Problem(start, end, actions, maze)#COMPLETE LA DEFINICIÓN DEL OBJETO Y ADAPTELO EN LOS PUNTOS QUE LO REQUIERAN\n",
        "\n",
        "    def manhatan_distance(pos, goal):\n",
        "        return abs(pos[0] - goal[0]) + abs(pos[1] - goal[1])  # Distancia de Manhattan\n",
        "    \"\"\"\n",
        "    La distancia Manhattan refleja el número mínimo de movimientos requeridos en una cuadrícula donde solo puedes moverte hacia arriba, abajo, derecha o izquierda.\n",
        "    Ejemplo práctico: Lo que se quiere conseguir con este maze problem\n",
        "    Sí tengo un robot en la posición (1,1) y quiero llegar a la posición (1,6), la distancia es: \n",
        "    abs(1-1) + abs(6-1) = 5. Así, sé que en el mejor de los casos el robot necesitará al menos 5 pasos para llegar al destino. \n",
        "    \"\"\"\n",
        "\n",
        "    def get_neighbors(pos):  #ESTA ES LA FUNCIÓN QUE DEBERIA AJUSTAR PARA HACER TRACKING DE LOS MOVIMIENTOS (Up, Down, Right, Left)\n",
        "        neighbors = [] #lista de vecinos\n",
        "        for move in problem.actions.keys():\n",
        "            desplazamiento = problem.actions[move]\n",
        "            neighbor = (pos[0] + desplazamiento[0], pos[1] + desplazamiento[1])\n",
        "\n",
        "            if maze[neighbor[0]][neighbor[1]] != \"#\":\n",
        "                neighbors.append((neighbor, move))\n",
        "        return neighbors\n",
        "        \n",
        "\n",
        "    start_node = Node(start, path_cost=0)\n",
        "    frontier = [(manhatan_distance(start, end), start_node)] # Se crea una lista donde voy a guardar la distancia manhattan entre mi inicio, final y donde inicio en el laberinto.\n",
        "    heapq.heapify(frontier) #Convierte la lista frontier en una cola de prioridad (heap). Las colas de prioridades organizan los valores de acuerdo al primer valor de la tupla, es decir, en este caso por la distancia manhatan. Ósea que aquellos nodos con una distancia manhatan menor van a ser los primeros explorados. \n",
        "    reached = {start: start_node} \n",
        "    \"\"\"\n",
        "    El reached guarda las posiciones visitadas como claves y los nodos correspondientes como valores. Es decir, el reached almacena el mejor camino encontrado hasta ahora a cada posición\n",
        "    explorada. \n",
        "    \"\"\"\n",
        "\n",
        "    while frontier:\n",
        "        _, node = heapq.heappop(frontier) # Saca el nodo con menor distancia manhattan de la cola de prioridad, y \"_\" ignora el primer valor, es decir, ignora el valor de la distancia manhatan y solo toma el nodo.\n",
        "        if node.position == end:   \n",
        "            return reconstruct_path(node)\n",
        "\n",
        "        for neighbor, action in get_neighbors(node.position): # Esto devuelve los nodos válidos donde se puede mover\n",
        "            new_cost = node.path_cost + 1 \n",
        "            if neighbor not in reached or new_cost < reached[neighbor].path_cost: # Sí nunca hemos visitado ese vecino (not in reached) o si encontramos un costo menor hacia el vecino actualizamos reached\n",
        "                reached[neighbor] = Node(neighbor, parent=node, path_cost=new_cost, action=action) # Creamos un nuevo nodo, con el vecino como posición inicial, el parent sería el nodo de donde venimos y el costo\n",
        "                heapq.heappush(frontier, (manhatan_distance(neighbor, end), reached[neighbor]))\n",
        "\n",
        "    return None  # No se encontró salida"
      ]
    },
    {
      "cell_type": "code",
      "execution_count": 44,
      "metadata": {
        "id": "goDWZANwaRuK"
      },
      "outputs": [
        {
          "name": "stdout",
          "output_type": "stream",
          "text": [
            "Path to exit: ([(1, 1), (2, 1), (2, 2), (2, 3), (3, 3), (3, 4), (3, 5), (2, 5), (1, 5), (1, 6)], ['down', 'right', 'right', 'down', 'right', 'right', 'up', 'up', 'right'])\n"
          ]
        }
      ],
      "source": [
        "maze = [\n",
        "    [\"#\", \"#\", \"#\", \"#\", \"#\", \"#\", \"#\",\"#\"],\n",
        "    [\"#\", \"S\", \"#\", \" \", \"#\", \" \", \"E\",\"#\"],\n",
        "    [\"#\", \" \", \" \", \" \", \"#\", \" \", \" \",\"#\"],\n",
        "    [\"#\", \" \", \"#\", \" \", \" \", \" \", \"#\",\"#\"],\n",
        "    [\"#\", \"#\", \"#\", \"#\", \"#\", \"#\", \"#\",\"#\"],\n",
        "    [\"#\", \"#\", \"#\", \"#\", \"#\", \"#\", \"#\",\"#\"]\n",
        "]\n",
        "path = find_exit(maze)\n",
        "print(\"Path to exit:\", path)"
      ]
    },
    {
      "cell_type": "markdown",
      "metadata": {
        "id": "H26eDnSU4YEK"
      },
      "source": [
        "**UNA VEZ SOLUCIONADO EL EJERCICIO, RESPONDA:**\n",
        "\n",
        "#### **1. ¿Cómo cambia el comportamiento del algoritmo si cambiamos la función de costo?**\n",
        "##### Dado que la heurística utilizada es aquella por la que calculamos la distancia Manhatan en cada vecino válido que tenemos y lo agregamos a la frontera (cola de prioridad), si bien la distancia Manhatan siempre toda el mejor de los casos, es decir, un camino sin obstáculos es gracias a esta que podemos priorizar los nodos más cercanos hacía el objetivo, y por ende los primeros que vamos a explorar. Así, en caso tal de que se cambiase la lógica de la función de costo, es decir, dejáramos de almacenar la distancia manhatan, entonces ahora pasaríamos a evaluar todas las fronteras posibles y no necesariamente la más cercana de primera (ya no se le da prioridad), lo que podría hacer al algoritmo ineficiente, pues estaría tomando más pasos para hallar la ruta. \n",
        "#### **2. ¿Qué sucede si hay múltiples salidas en el laberinto? ¿Cómo podrías modificar el algoritmo para manejar esta situación?**\n",
        "##### Entendiendo que una salida es un espacio representado por un slash \"/\" en el laberito y no una pared (\"#\") que es un obstáculo, la única modificación pertinente sería agregarle un \"and\" a la condición que verifica si hay una pared (\"#\"). Esta: if maze[neighbor[0]][neighbor[1]] != \"#\" and maze[neighbor[0]][neighbor[1]] != \"/\": , así no tomaría las salidas como vecinos válidos y seguirá su ruta hacia el objetivo.\n",
        "#### **3. Modifica el laberinto por uno más grande y con otros tipos de obstáculos, además de paredes. ¿Qué limitaciones encuentras en el algoritmo?**\n",
        "\n",
        "Nota: Resuelve este problema en una celda aparte para mantener la integridad de tu código original."
      ]
    },
    {
      "cell_type": "code",
      "execution_count": 45,
      "metadata": {},
      "outputs": [],
      "source": [
        "def find_exit2(maze):\n",
        "    start = (1, 1)  # Posición inicial basado en la documentación suministrada\n",
        "    end = (4, 9)    # Posición de la salida basado en la documentación suministrada\n",
        "\n",
        "    #DEFINA el conjunto de actions posibles#\n",
        "    actions = {\n",
        "        \"up\":(-1,0),\n",
        "        \"down\":(1, 0),\n",
        "        \"right\":(0, 1),\n",
        "        \"left\":(0, -1)\n",
        "        \n",
        "    }\n",
        "\n",
        "    problem=Problem(start, end, actions, maze)#COMPLETE LA DEFINICIÓN DEL OBJETO Y ADAPTELO EN LOS PUNTOS QUE LO REQUIERAN\n",
        "\n",
        "    def manhatan_distance(pos, goal):\n",
        "        return abs(pos[0] - goal[0]) + abs(pos[1] - goal[1])  # Distancia de Manhattan\n",
        "    \"\"\"\n",
        "    La distancia Manhattan refleja el número mínimo de movimientos requeridos en una cuadrícula donde solo puedes moverte hacia arriba, abajo, derecha o izquierda.\n",
        "    Ejemplo práctico: Lo que se quiere conseguir con este maze problem\n",
        "    Sí tengo un robot en la posición (1,1) y quiero llegar a la posición (1,6), la distancia es: \n",
        "    abs(1-1) + abs(6-1) = 5. Así, sé que en el mejor de los casos el robot necesitará al menos 5 pasos para llegar al destino. \n",
        "    \"\"\"\n",
        "\n",
        "    def get_neighbors(pos):  #ESTA ES LA FUNCIÓN QUE DEBERIA AJUSTAR PARA HACER TRACKING DE LOS MOVIMIENTOS (Up, Down, Right, Left)\n",
        "        neighbors = [] #lista de vecinos\n",
        "        for move in problem.actions.keys():\n",
        "            desplazamiento = problem.actions[move]\n",
        "            neighbor = (pos[0] + desplazamiento[0], pos[1] + desplazamiento[1])\n",
        "\n",
        "            if maze[neighbor[0]][neighbor[1]] != \"#\" and maze[neighbor[0]][neighbor[1]] != \"*\" and maze[neighbor[0]][neighbor[1]] != \"/\":\n",
        "                neighbors.append((neighbor, move))\n",
        "        return neighbors\n",
        "        \n",
        "\n",
        "    start_node = Node(start, path_cost=0)\n",
        "    frontier = [(manhatan_distance(start, end), start_node)] # Se crea una lista donde voy a guardar la distancia manhattan entre mi inicio, final y donde inicio en el laberinto.\n",
        "    heapq.heapify(frontier) #Convierte la lista frontier en una cola de prioridad (heap). Las colas de prioridades organizan los valores de acuerdo al primer valor de la tupla, es decir, en este caso por la distancia manhatan. Ósea que aquellos nodos con una distancia manhatan menor van a ser los primeros explorados. \n",
        "    reached = {start: start_node} \n",
        "    \"\"\"\n",
        "    El reached guarda las posiciones visitadas como claves y los nodos correspondientes como valores. Es decir, el reached almacena el mejor camino encontrado hasta ahora a cada posición\n",
        "    explorada. \n",
        "    \"\"\"\n",
        "\n",
        "    while frontier:\n",
        "        _, node = heapq.heappop(frontier) # Saca el nodo con menor distancia manhattan de la cola de prioridad, y \"_\" ignora el primer valor, es decir, ignora el valor de la distancia manhatan y solo toma el nodo.\n",
        "        if node.position == end:   \n",
        "            return reconstruct_path(node)\n",
        "\n",
        "        for neighbor, action in get_neighbors(node.position): # Esto devuelve los nodos válidos donde se puede mover\n",
        "            new_cost = node.path_cost + 1 \n",
        "            if neighbor not in reached or new_cost < reached[neighbor].path_cost: # Sí nunca hemos visitado ese vecino (not in reached) o si encontramos un costo menor hacia el vecino actualizamos reached\n",
        "                reached[neighbor] = Node(neighbor, parent=node, path_cost=new_cost, action=action) # Creamos un nuevo nodo, con el vecino como posición inicial, el parent sería el nodo de donde venimos y el costo\n",
        "                heapq.heappush(frontier, (manhatan_distance(neighbor, end), reached[neighbor]))\n",
        "\n",
        "    return None  # No se encontró salida"
      ]
    },
    {
      "cell_type": "code",
      "execution_count": 46,
      "metadata": {},
      "outputs": [
        {
          "name": "stdout",
          "output_type": "stream",
          "text": [
            "Path to exit: ([(1, 1), (2, 1), (2, 2), (2, 3), (3, 3), (3, 4), (3, 5), (2, 5), (1, 5), (1, 6), (1, 7), (2, 7), (3, 7), (4, 7), (4, 8), (4, 9)], ['down', 'right', 'right', 'down', 'right', 'right', 'up', 'up', 'right', 'right', 'down', 'down', 'down', 'right', 'right'])\n"
          ]
        }
      ],
      "source": [
        "maze = [\n",
        "    [\"/\", \"#\", \"#\", \"#\", \"#\", \"/\", \"#\", \"*\", \"#\", \"#\", \"#\", \"/\"],\n",
        "    [\"#\", \"S\", \"#\", \" \", \"#\", \" \", \" \", \" \", \" \", \"*\", \"#\", \"#\"],\n",
        "    [\"#\", \" \", \" \", \" \", \"#\", \" \", \"#\", \" \", \"/\", \"#\", \"#\", \"#\"],\n",
        "    [\"#\", \" \", \"*\", \" \", \" \", \" \", \"*\", \" \", \"#\", \"#\", \"#\", \"#\"],\n",
        "    [\"*\", \"#\", \"#\", \"#\", \"*\", \"#\", \"#\", \" \", \" \", \"E\", \"#\", \"#\"],\n",
        "    [\"#\", \"#\", \"#\", \"#\", \"#\", \"/\", \"#\", \" \", \"#\", \"#\", \"#\", \"#\"],\n",
        "    [\"#\", \"#\", \"*\", \"/\", \"#\", \"#\", \"#\", \" \", \"#\", \"#\", \"*\", \"#\"],\n",
        "    [\"*\", \" \", \" \", \" \", \"#\", \"*\", \"*\", \" \", \"#\", \"#\", \"#\", \"#\"],\n",
        "    [\"#\", \" \", \"#\", \" \", \" \", \" \", \" \", \" \", \"#\", \"#\", \"#\", \"#\"],\n",
        "    [\"/\", \" \", \"#\", \"#\", \"#\", \"#\", \"#\", \"#\", \"#\", \"#\", \"#\", \"/\"]\n",
        "]\n",
        "path = find_exit2(maze)\n",
        "print(\"Path to exit:\", path)"
      ]
    }
  ],
  "metadata": {
    "colab": {
      "provenance": []
    },
    "kernelspec": {
      "display_name": "Python 3",
      "name": "python3"
    },
    "language_info": {
      "codemirror_mode": {
        "name": "ipython",
        "version": 3
      },
      "file_extension": ".py",
      "mimetype": "text/x-python",
      "name": "python",
      "nbconvert_exporter": "python",
      "pygments_lexer": "ipython3",
      "version": "3.13.1"
    }
  },
  "nbformat": 4,
  "nbformat_minor": 0
}
